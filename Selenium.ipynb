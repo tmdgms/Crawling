{
 "cells": [
  {
   "cell_type": "markdown",
   "metadata": {},
   "source": [
    "# Selenium이란...?"
   ]
  },
  {
   "cell_type": "markdown",
   "metadata": {},
   "source": [
    "- 원래 브라우져를 자동화하는 툴로 테스팅을 목적으로 웹 어플리케이션을 자동화 하는 목적으로 만들어졌음\n",
    "- 자동화를 위한 작업으로도 사용\n",
    "- 지원하는 브라우져 : Firefox, Internet Explorer, Safari, Opera Chrome\n",
    "- 지원하는 OS : Microsoft Windows, Apple OS X, Linux\n",
    "- 지원하는 언어 : C#, Haskell, Java, Javascript, Object-C, Perl, PHP, Python, R, Ruby"
   ]
  },
  {
   "cell_type": "markdown",
   "metadata": {},
   "source": [
    "##### - 눈에 보이는 컨텐츠는 모두 가져올수 있음 -"
   ]
  },
  {
   "cell_type": "markdown",
   "metadata": {},
   "source": [
    "### Selenium 과 친해지기"
   ]
  },
  {
   "cell_type": "code",
   "execution_count": 1,
   "metadata": {},
   "outputs": [],
   "source": [
    "from selenium import webdriver"
   ]
  },
  {
   "cell_type": "code",
   "execution_count": 43,
   "metadata": {},
   "outputs": [],
   "source": [
    "# driver 작동후 chrome으로 naver열기\n",
    "driver = webdriver.Chrome()\n",
    "driver.get(\"https://www.naver.com/\")"
   ]
  },
  {
   "cell_type": "code",
   "execution_count": 44,
   "metadata": {},
   "outputs": [],
   "source": [
    "# 윈도우 사이즈 조절\n",
    "driver.set_window_size(800, 600)"
   ]
  },
  {
   "cell_type": "code",
   "execution_count": 45,
   "metadata": {},
   "outputs": [],
   "source": [
    "# 브라우져의 스크롤 위치 이동\n",
    "driver.execute_script(\"window.scrollTo(200, 300)\")"
   ]
  },
  {
   "cell_type": "code",
   "execution_count": 46,
   "metadata": {},
   "outputs": [
    {
     "data": {
      "text/plain": [
       "'CDwindow-E39504477304B73DC61318C7ABDA7C38'"
      ]
     },
     "execution_count": 46,
     "metadata": {},
     "output_type": "execute_result"
    }
   ],
   "source": [
    "# 윈도우 객체 저장 \n",
    "# - 여러개의 탭이 있을때 다른 탭에 저장 되어 있는 윈도우 객체탭으로 돌아올수 있음\n",
    "main_window = driver.current_window_handle\n",
    "main_window"
   ]
  },
  {
   "cell_type": "code",
   "execution_count": 47,
   "metadata": {},
   "outputs": [],
   "source": [
    "# 새로운 윈도우 탭열기\n",
    "driver.execute_script(\"window.open('https://www.google.com');\")\n",
    "driver.get(\"http://daum.net/\")"
   ]
  },
  {
   "cell_type": "code",
   "execution_count": 48,
   "metadata": {},
   "outputs": [
    {
     "data": {
      "text/plain": [
       "['CDwindow-E39504477304B73DC61318C7ABDA7C38',\n",
       " 'CDwindow-517C67307BA426BD33FF52259D9617F3']"
      ]
     },
     "execution_count": 48,
     "metadata": {},
     "output_type": "execute_result"
    }
   ],
   "source": [
    "# 열려있는 윈도우 확인\n",
    "windows = driver.window_handles\n",
    "windows"
   ]
  },
  {
   "cell_type": "code",
   "execution_count": 49,
   "metadata": {},
   "outputs": [],
   "source": [
    "# 포커스 변경\n",
    "driver.switch_to_window(windows[1])\n",
    "driver.get('http://facebook.com')"
   ]
  },
  {
   "cell_type": "code",
   "execution_count": 50,
   "metadata": {},
   "outputs": [],
   "source": [
    "driver.switch_to_window(windows[0])"
   ]
  },
  {
   "cell_type": "code",
   "execution_count": 31,
   "metadata": {},
   "outputs": [],
   "source": [
    "# 페이지 새로고침\n",
    "driver.execute_script(\"location.reload();\")"
   ]
  },
  {
   "cell_type": "code",
   "execution_count": 13,
   "metadata": {},
   "outputs": [],
   "source": [
    "# alert 다루기\n",
    "driver.execute_script(\"alert('selenium test');\")"
   ]
  },
  {
   "cell_type": "code",
   "execution_count": 17,
   "metadata": {},
   "outputs": [
    {
     "data": {
      "text/plain": [
       "'selenium test'"
      ]
     },
     "execution_count": 17,
     "metadata": {},
     "output_type": "execute_result"
    }
   ],
   "source": [
    "alert = driver.switch_to_alert()\n",
    "alert.text"
   ]
  },
  {
   "cell_type": "code",
   "execution_count": 18,
   "metadata": {},
   "outputs": [],
   "source": [
    "# alert 가 사라짐\n",
    "alert.accept()"
   ]
  },
  {
   "cell_type": "code",
   "execution_count": 23,
   "metadata": {},
   "outputs": [],
   "source": [
    "# confirm 다루기\n",
    "driver.execute_script(\"confirm('confirm?');\")"
   ]
  },
  {
   "cell_type": "code",
   "execution_count": 24,
   "metadata": {},
   "outputs": [
    {
     "data": {
      "text/plain": [
       "'confirm?'"
      ]
     },
     "execution_count": 24,
     "metadata": {},
     "output_type": "execute_result"
    }
   ],
   "source": [
    "alert = driver.switch_to_alert()\n",
    "alert.text"
   ]
  },
  {
   "cell_type": "code",
   "execution_count": 25,
   "metadata": {},
   "outputs": [],
   "source": [
    "alert.accept()"
   ]
  },
  {
   "cell_type": "code",
   "execution_count": 51,
   "metadata": {},
   "outputs": [],
   "source": [
    "# 키입력하기 (다음 페이지를 들어가서 검색창부분의 소스를 보면 id='q')\n",
    "driver.find_element_by_css_selector(\"#q\").send_keys(\"패스트캠퍼스\")"
   ]
  },
  {
   "cell_type": "code",
   "execution_count": 53,
   "metadata": {},
   "outputs": [],
   "source": [
    "# 버튼 클릭하기\n",
    "driver.find_element_by_css_selector(\".ico_pctop.btn_search\").click()"
   ]
  },
  {
   "cell_type": "code",
   "execution_count": 57,
   "metadata": {},
   "outputs": [],
   "source": [
    "driver.close()"
   ]
  },
  {
   "cell_type": "code",
   "execution_count": null,
   "metadata": {},
   "outputs": [],
   "source": []
  },
  {
   "cell_type": "markdown",
   "metadata": {},
   "source": [
    "### 본격적으로 Selenium 웹데이터 스크래핑\n",
    "- gmarket 베스트셀러 상품 10개"
   ]
  },
  {
   "cell_type": "code",
   "execution_count": 71,
   "metadata": {},
   "outputs": [],
   "source": [
    "# 웹 페이지로 이동\n",
    "driver = webdriver.Chrome()\n",
    "driver.get('http://corners.gmarket.co.kr/Bestsellers')"
   ]
  },
  {
   "cell_type": "code",
   "execution_count": 126,
   "metadata": {},
   "outputs": [],
   "source": [
    "# 데이터 가져와서 출력하기\n",
    "# elements 인지 element 확인\n",
    "# tag가 넘어갈때는 띄어쓰기\n",
    "# id 부터 시작해서 원하는 부분의 class\n",
    "bestlist_selector = driver.find_elements_by_css_selector(\"#gBestWrap .best-list\")[1]\n",
    "items = bestlist_selector.find_elements_by_css_selector(\"li\")[:100]"
   ]
  },
  {
   "cell_type": "code",
   "execution_count": 148,
   "metadata": {},
   "outputs": [
    {
     "data": {
      "text/plain": [
       "['1', '2', '3', '4', '5']"
      ]
     },
     "execution_count": 148,
     "metadata": {},
     "output_type": "execute_result"
    }
   ],
   "source": [
    "idx = [item.find_element_by_css_selector(\"p\").text for item in items]\n",
    "idx[:5]"
   ]
  },
  {
   "cell_type": "code",
   "execution_count": 149,
   "metadata": {},
   "outputs": [
    {
     "data": {
      "text/plain": [
       "['의성 도담자두 2kg(중대70g이상) 아이스포장',\n",
       " '[롯데푸드]의성마늘프랑크 70gx20개/핫바/간식/소시지/소세지',\n",
       " '완벽하게 사랑하는 너에게 : 뻔하지만 이 말밖엔 그림에다',\n",
       " '[이니스프리]8월 빅세일 최대50% 클렌징 수딩 필수템+G단독상품',\n",
       " '쁘띠뮤/전상품20%즉시할인 가을신상+여름최종가SALE']"
      ]
     },
     "execution_count": 149,
     "metadata": {},
     "output_type": "execute_result"
    }
   ],
   "source": [
    "content = [item.find_element_by_css_selector(\".itemname\").text for item in items]\n",
    "content[:5]"
   ]
  },
  {
   "cell_type": "code",
   "execution_count": 150,
   "metadata": {},
   "outputs": [
    {
     "data": {
      "text/plain": [
       "['9,900원', '13,900원', '11,700원', '17,500원', '6,900원']"
      ]
     },
     "execution_count": 150,
     "metadata": {},
     "output_type": "execute_result"
    }
   ],
   "source": [
    "price = [item.find_element_by_css_selector(\".item_price .s-price strong\").text for item in items]\n",
    "price[:5]"
   ]
  },
  {
   "cell_type": "code",
   "execution_count": 145,
   "metadata": {},
   "outputs": [],
   "source": [
    "data = pd.DataFrame(columns=[\"idx\", \"content\", \"price\"])\n",
    "data[\"idx\"] = idx\n",
    "data[\"content\"] = content\n",
    "data[\"price\"] = price\n",
    "df = data.set_index(\"idx\")"
   ]
  },
  {
   "cell_type": "code",
   "execution_count": 146,
   "metadata": {},
   "outputs": [
    {
     "data": {
      "text/html": [
       "<div>\n",
       "<style scoped>\n",
       "    .dataframe tbody tr th:only-of-type {\n",
       "        vertical-align: middle;\n",
       "    }\n",
       "\n",
       "    .dataframe tbody tr th {\n",
       "        vertical-align: top;\n",
       "    }\n",
       "\n",
       "    .dataframe thead th {\n",
       "        text-align: right;\n",
       "    }\n",
       "</style>\n",
       "<table border=\"1\" class=\"dataframe\">\n",
       "  <thead>\n",
       "    <tr style=\"text-align: right;\">\n",
       "      <th></th>\n",
       "      <th>content</th>\n",
       "      <th>price</th>\n",
       "    </tr>\n",
       "    <tr>\n",
       "      <th>idx</th>\n",
       "      <th></th>\n",
       "      <th></th>\n",
       "    </tr>\n",
       "  </thead>\n",
       "  <tbody>\n",
       "    <tr>\n",
       "      <th>1</th>\n",
       "      <td>의성 도담자두 2kg(중대70g이상) 아이스포장</td>\n",
       "      <td>9,900원</td>\n",
       "    </tr>\n",
       "    <tr>\n",
       "      <th>2</th>\n",
       "      <td>[롯데푸드]의성마늘프랑크 70gx20개/핫바/간식/소시지/소세지</td>\n",
       "      <td>13,900원</td>\n",
       "    </tr>\n",
       "    <tr>\n",
       "      <th>3</th>\n",
       "      <td>완벽하게 사랑하는 너에게 : 뻔하지만 이 말밖엔 그림에다</td>\n",
       "      <td>11,700원</td>\n",
       "    </tr>\n",
       "    <tr>\n",
       "      <th>4</th>\n",
       "      <td>[이니스프리]8월 빅세일 최대50% 클렌징 수딩 필수템+G단독상품</td>\n",
       "      <td>17,500원</td>\n",
       "    </tr>\n",
       "    <tr>\n",
       "      <th>5</th>\n",
       "      <td>쁘띠뮤/전상품20%즉시할인 가을신상+여름최종가SALE</td>\n",
       "      <td>6,900원</td>\n",
       "    </tr>\n",
       "    <tr>\n",
       "      <th>6</th>\n",
       "      <td>[락앤락]락앤락 3단 다용도 수납박스 수납함 밀폐용기 약통</td>\n",
       "      <td>7,900원</td>\n",
       "    </tr>\n",
       "    <tr>\n",
       "      <th>7</th>\n",
       "      <td>[GS25]유어스)제주해녀 해물맛 라면</td>\n",
       "      <td>750원</td>\n",
       "    </tr>\n",
       "    <tr>\n",
       "      <th>8</th>\n",
       "      <td>[맥도날드]한정판 빅맥 BLT 단품</td>\n",
       "      <td>3,900원</td>\n",
       "    </tr>\n",
       "    <tr>\n",
       "      <th>9</th>\n",
       "      <td>[프릴]프릴 베이킹소다 주방세제 750ml x3개</td>\n",
       "      <td>11,200원</td>\n",
       "    </tr>\n",
       "    <tr>\n",
       "      <th>10</th>\n",
       "      <td>[테리파머]호텔수건 미국목화 타올 수건 리본포장 타월</td>\n",
       "      <td>12,900원</td>\n",
       "    </tr>\n",
       "    <tr>\n",
       "      <th>11</th>\n",
       "      <td>[GS25]유어스)독도사랑 새우맛 라면</td>\n",
       "      <td>800원</td>\n",
       "    </tr>\n",
       "    <tr>\n",
       "      <th>12</th>\n",
       "      <td>[해피바스]해피바스 바디워시 900g 3개+추가증정 (50종 택1)</td>\n",
       "      <td>12,900원</td>\n",
       "    </tr>\n",
       "    <tr>\n",
       "      <th>13</th>\n",
       "      <td>매월 둘째 주 추가할인 / 박스포유 택배박스</td>\n",
       "      <td>28,900원</td>\n",
       "    </tr>\n",
       "    <tr>\n",
       "      <th>14</th>\n",
       "      <td>[디즈니]아동실내화 어린이 초등학생 신학기 유아 초등 가을</td>\n",
       "      <td>5,900원</td>\n",
       "    </tr>\n",
       "    <tr>\n",
       "      <th>15</th>\n",
       "      <td>대박난박양 빅사이즈 가을신상 블라우스 오피스룩</td>\n",
       "      <td>12,900원</td>\n",
       "    </tr>\n",
       "    <tr>\n",
       "      <th>16</th>\n",
       "      <td>(Gtable) 통살치킨텐더 530g+530g /치킨너겟 특가</td>\n",
       "      <td>9,900원</td>\n",
       "    </tr>\n",
       "    <tr>\n",
       "      <th>17</th>\n",
       "      <td>[네이처리퍼블릭]네이처리퍼블릭 8월 멤버십데이 최대80% UP TO</td>\n",
       "      <td>12,500원</td>\n",
       "    </tr>\n",
       "    <tr>\n",
       "      <th>18</th>\n",
       "      <td>앤드스타일 최종가 여름 왕골/가방/모자/파자마</td>\n",
       "      <td>10,000원</td>\n",
       "    </tr>\n",
       "    <tr>\n",
       "      <th>19</th>\n",
       "      <td>애프리콧 4900원 티셔츠특가/박스/루즈핏/여름티</td>\n",
       "      <td>4,900원</td>\n",
       "    </tr>\n",
       "    <tr>\n",
       "      <th>20</th>\n",
       "      <td>국내산 방수 매트리스커버 (슈퍼싱글/퀸)</td>\n",
       "      <td>10,900원</td>\n",
       "    </tr>\n",
       "    <tr>\n",
       "      <th>21</th>\n",
       "      <td>[하기스]2018년 NEW 하기스 보송보송 팬티 4팩 / 기저귀</td>\n",
       "      <td>30,700원</td>\n",
       "    </tr>\n",
       "    <tr>\n",
       "      <th>22</th>\n",
       "      <td>[올젠](대구신세계)구스 다운 경량 베스트 4종 택1 [ZAY1VP1302 외]</td>\n",
       "      <td>29,320원</td>\n",
       "    </tr>\n",
       "    <tr>\n",
       "      <th>23</th>\n",
       "      <td>[비비안]국산/주니어브라/주니어속옷/쥬니어팬티/학생브라</td>\n",
       "      <td>4,900원</td>\n",
       "    </tr>\n",
       "    <tr>\n",
       "      <th>24</th>\n",
       "      <td>[유니레버]썬실크 극손상용 트리트먼트 200ml 2개+헤어빗</td>\n",
       "      <td>14,900원</td>\n",
       "    </tr>\n",
       "    <tr>\n",
       "      <th>25</th>\n",
       "      <td>[탑모델]시즌오프 균일 스트랩/샌들/웨지/슬리퍼/플랫샌들</td>\n",
       "      <td>8,900원</td>\n",
       "    </tr>\n",
       "    <tr>\n",
       "      <th>26</th>\n",
       "      <td>르까프/케이스위스/머렐 남여 바람막이 자켓 특가</td>\n",
       "      <td>14,900원</td>\n",
       "    </tr>\n",
       "    <tr>\n",
       "      <th>27</th>\n",
       "      <td>파격특가 원피스44~110빅사이즈 루즈핏 데님 패턴 롱</td>\n",
       "      <td>12,800원</td>\n",
       "    </tr>\n",
       "    <tr>\n",
       "      <th>28</th>\n",
       "      <td>[슬레진저]BILIZZARD 8900원 슬레진저 운동화 특가 빌리자드</td>\n",
       "      <td>8,900원</td>\n",
       "    </tr>\n",
       "    <tr>\n",
       "      <th>29</th>\n",
       "      <td>나이키 스우시 반팔티/라운드반팔티/남녀공용 반팔티</td>\n",
       "      <td>15,700원</td>\n",
       "    </tr>\n",
       "    <tr>\n",
       "      <th>30</th>\n",
       "      <td>[일리윤]일리윤 세라마이드 아토 크림 200ml+100ml (옵션)</td>\n",
       "      <td>10,900원</td>\n",
       "    </tr>\n",
       "    <tr>\n",
       "      <th>...</th>\n",
       "      <td>...</td>\n",
       "      <td>...</td>\n",
       "    </tr>\n",
       "    <tr>\n",
       "      <th>71</th>\n",
       "      <td>리더스타 원피스/블라우스/셔츠/티셔츠</td>\n",
       "      <td>9,900원</td>\n",
       "    </tr>\n",
       "    <tr>\n",
       "      <th>72</th>\n",
       "      <td>아동팬티/면/런닝/삼각팬티/유아/사각/즈로즈/주니어</td>\n",
       "      <td>4,900원</td>\n",
       "    </tr>\n",
       "    <tr>\n",
       "      <th>73</th>\n",
       "      <td>[GS25]유어스)웅진팥차 500ML</td>\n",
       "      <td>750원</td>\n",
       "    </tr>\n",
       "    <tr>\n",
       "      <th>74</th>\n",
       "      <td>[일로딜로][이랜드키즈]지금 입기 좋은 간절기 원피스 초특가 7 000원~ UP T...</td>\n",
       "      <td>10,000원</td>\n",
       "    </tr>\n",
       "    <tr>\n",
       "      <th>75</th>\n",
       "      <td>[댄트롤]댄트롤 샴푸/린스 820ml 3개+추가증정 (7종 택1)</td>\n",
       "      <td>10,900원</td>\n",
       "    </tr>\n",
       "    <tr>\n",
       "      <th>76</th>\n",
       "      <td>PC 몬스터헌터 월드 한글판 -(초회판 / 디럭스)선택</td>\n",
       "      <td>49,800원</td>\n",
       "    </tr>\n",
       "    <tr>\n",
       "      <th>77</th>\n",
       "      <td>종이컵//계량컵//2000개 한박스//눈금표시//무형광</td>\n",
       "      <td>14,200원</td>\n",
       "    </tr>\n",
       "    <tr>\n",
       "      <th>78</th>\n",
       "      <td>[신세계푸드]올반 볶음밥/새우/김치/햄에그 6봉(총12인분) 소스포함</td>\n",
       "      <td>19,900원</td>\n",
       "    </tr>\n",
       "    <tr>\n",
       "      <th>79</th>\n",
       "      <td>(슈퍼프라이데이)캐리비안베이 골드1시즌 종일권+에버랜드오후권(8/17~8/26)</td>\n",
       "      <td>37,700원</td>\n",
       "    </tr>\n",
       "    <tr>\n",
       "      <th>80</th>\n",
       "      <td>데일리앤 여름 원피스 플라워 쉬폰 뷔스티에 린넨</td>\n",
       "      <td>9,900원</td>\n",
       "    </tr>\n",
       "    <tr>\n",
       "      <th>81</th>\n",
       "      <td>라헨느 토네이도 V6 차이슨 무선청소기 22.2V</td>\n",
       "      <td>86,900원</td>\n",
       "    </tr>\n",
       "    <tr>\n",
       "      <th>82</th>\n",
       "      <td>[디키즈]디키즈 시즌오프X프리뷰 특가 50종_DK98C878</td>\n",
       "      <td>7,000원</td>\n",
       "    </tr>\n",
       "    <tr>\n",
       "      <th>83</th>\n",
       "      <td>[숏핑] 고래사 프리미엄 어묵 26봉</td>\n",
       "      <td>33,520원</td>\n",
       "    </tr>\n",
       "    <tr>\n",
       "      <th>84</th>\n",
       "      <td>블리블리 인진쑥에센스 외 베스트 50종</td>\n",
       "      <td>29,000원</td>\n",
       "    </tr>\n",
       "    <tr>\n",
       "      <th>85</th>\n",
       "      <td>쿠폰가33900맥심모카골드/화이트/400T//커피믹스/커피</td>\n",
       "      <td>42,900원</td>\n",
       "    </tr>\n",
       "    <tr>\n",
       "      <th>86</th>\n",
       "      <td>[스마트에코]새로운 스마트에코물티슈 대용량120매 10+10팩</td>\n",
       "      <td>12,900원</td>\n",
       "    </tr>\n",
       "    <tr>\n",
       "      <th>87</th>\n",
       "      <td>[릴리유]릴리유 도톰한 하트엠보싱 캡형 80매 10팩</td>\n",
       "      <td>10,900원</td>\n",
       "    </tr>\n",
       "    <tr>\n",
       "      <th>88</th>\n",
       "      <td>역대급특가/반바지/치마바지/숏팬츠/청바지/SALE</td>\n",
       "      <td>6,900원</td>\n",
       "    </tr>\n",
       "    <tr>\n",
       "      <th>89</th>\n",
       "      <td>[멜리사앤더그]재사용가능 장거리이동완구 워터와우/스티커북모음</td>\n",
       "      <td>4,900원</td>\n",
       "    </tr>\n",
       "    <tr>\n",
       "      <th>90</th>\n",
       "      <td>[네고]강화유리액정보호갤럭시노트9/8 S9플러스 아이폰X V30</td>\n",
       "      <td>14,900원</td>\n",
       "    </tr>\n",
       "    <tr>\n",
       "      <th>91</th>\n",
       "      <td>멀티 인덱스 도마 4P</td>\n",
       "      <td>9,900원</td>\n",
       "    </tr>\n",
       "    <tr>\n",
       "      <th>92</th>\n",
       "      <td>[미쟝센]미쟝센 퍼펙트 세럼/핑크세럼 1+1(증정)+추가증정</td>\n",
       "      <td>9,900원</td>\n",
       "    </tr>\n",
       "    <tr>\n",
       "      <th>93</th>\n",
       "      <td>[랩](금~일 Only) LAP 역시즌 코트/점퍼 긴급특가</td>\n",
       "      <td>49,500원</td>\n",
       "    </tr>\n",
       "    <tr>\n",
       "      <th>94</th>\n",
       "      <td>[가이타이너]베이직 후라이팬 기획세트 / 키친툴 궁중팬</td>\n",
       "      <td>10,900원</td>\n",
       "    </tr>\n",
       "    <tr>\n",
       "      <th>95</th>\n",
       "      <td>(메가박스)영화관람권 1매/예매권/전일/실시간발송</td>\n",
       "      <td>7,200원</td>\n",
       "    </tr>\n",
       "    <tr>\n",
       "      <th>96</th>\n",
       "      <td>[롯데칠성]칠성사이다 190mlx30캔/탄산음료/사이다/콜라/탄산</td>\n",
       "      <td>10,900원</td>\n",
       "    </tr>\n",
       "    <tr>\n",
       "      <th>97</th>\n",
       "      <td>잇츠스킨 빅세일 최대 50% + 추가쿠폰 + 증정</td>\n",
       "      <td>11,000원</td>\n",
       "    </tr>\n",
       "    <tr>\n",
       "      <th>98</th>\n",
       "      <td>[코디]코디 허브가든 화장지 3겹 30롤 3팩(총90롤)/휴지</td>\n",
       "      <td>25,900원</td>\n",
       "    </tr>\n",
       "    <tr>\n",
       "      <th>99</th>\n",
       "      <td>[케이투](신세계본점)[K2]18 F/W 신상 남여공용 BOOST 마조람 롱다운_K...</td>\n",
       "      <td>144,780원</td>\n",
       "    </tr>\n",
       "    <tr>\n",
       "      <th>100</th>\n",
       "      <td>무형광천연펄프 종이컵2000개 6.5온스 무료배송</td>\n",
       "      <td>14,200원</td>\n",
       "    </tr>\n",
       "  </tbody>\n",
       "</table>\n",
       "<p>100 rows × 2 columns</p>\n",
       "</div>"
      ],
      "text/plain": [
       "                                               content     price\n",
       "idx                                                             \n",
       "1                           의성 도담자두 2kg(중대70g이상) 아이스포장    9,900원\n",
       "2                  [롯데푸드]의성마늘프랑크 70gx20개/핫바/간식/소시지/소세지   13,900원\n",
       "3                      완벽하게 사랑하는 너에게 : 뻔하지만 이 말밖엔 그림에다   11,700원\n",
       "4                 [이니스프리]8월 빅세일 최대50% 클렌징 수딩 필수템+G단독상품   17,500원\n",
       "5                        쁘띠뮤/전상품20%즉시할인 가을신상+여름최종가SALE    6,900원\n",
       "6                     [락앤락]락앤락 3단 다용도 수납박스 수납함 밀폐용기 약통    7,900원\n",
       "7                                [GS25]유어스)제주해녀 해물맛 라면      750원\n",
       "8                                  [맥도날드]한정판 빅맥 BLT 단품    3,900원\n",
       "9                          [프릴]프릴 베이킹소다 주방세제 750ml x3개   11,200원\n",
       "10                       [테리파머]호텔수건 미국목화 타올 수건 리본포장 타월   12,900원\n",
       "11                               [GS25]유어스)독도사랑 새우맛 라면      800원\n",
       "12               [해피바스]해피바스 바디워시 900g 3개+추가증정 (50종 택1)   12,900원\n",
       "13                            매월 둘째 주 추가할인 / 박스포유 택배박스   28,900원\n",
       "14                    [디즈니]아동실내화 어린이 초등학생 신학기 유아 초등 가을    5,900원\n",
       "15                           대박난박양 빅사이즈 가을신상 블라우스 오피스룩   12,900원\n",
       "16                  (Gtable) 통살치킨텐더 530g+530g /치킨너겟 특가    9,900원\n",
       "17               [네이처리퍼블릭]네이처리퍼블릭 8월 멤버십데이 최대80% UP TO   12,500원\n",
       "18                           앤드스타일 최종가 여름 왕골/가방/모자/파자마   10,000원\n",
       "19                         애프리콧 4900원 티셔츠특가/박스/루즈핏/여름티    4,900원\n",
       "20                              국내산 방수 매트리스커버 (슈퍼싱글/퀸)   10,900원\n",
       "21                 [하기스]2018년 NEW 하기스 보송보송 팬티 4팩 / 기저귀   30,700원\n",
       "22        [올젠](대구신세계)구스 다운 경량 베스트 4종 택1 [ZAY1VP1302 외]   29,320원\n",
       "23                      [비비안]국산/주니어브라/주니어속옷/쥬니어팬티/학생브라    4,900원\n",
       "24                   [유니레버]썬실크 극손상용 트리트먼트 200ml 2개+헤어빗   14,900원\n",
       "25                     [탑모델]시즌오프 균일 스트랩/샌들/웨지/슬리퍼/플랫샌들    8,900원\n",
       "26                          르까프/케이스위스/머렐 남여 바람막이 자켓 특가   14,900원\n",
       "27                      파격특가 원피스44~110빅사이즈 루즈핏 데님 패턴 롱   12,800원\n",
       "28              [슬레진저]BILIZZARD 8900원 슬레진저 운동화 특가 빌리자드    8,900원\n",
       "29                         나이키 스우시 반팔티/라운드반팔티/남녀공용 반팔티   15,700원\n",
       "30               [일리윤]일리윤 세라마이드 아토 크림 200ml+100ml (옵션)   10,900원\n",
       "..                                                 ...       ...\n",
       "71                                리더스타 원피스/블라우스/셔츠/티셔츠    9,900원\n",
       "72                        아동팬티/면/런닝/삼각팬티/유아/사각/즈로즈/주니어    4,900원\n",
       "73                                [GS25]유어스)웅진팥차 500ML      750원\n",
       "74   [일로딜로][이랜드키즈]지금 입기 좋은 간절기 원피스 초특가 7 000원~ UP T...   10,000원\n",
       "75                [댄트롤]댄트롤 샴푸/린스 820ml 3개+추가증정 (7종 택1)   10,900원\n",
       "76                      PC 몬스터헌터 월드 한글판 -(초회판 / 디럭스)선택   49,800원\n",
       "77                      종이컵//계량컵//2000개 한박스//눈금표시//무형광   14,200원\n",
       "78              [신세계푸드]올반 볶음밥/새우/김치/햄에그 6봉(총12인분) 소스포함   19,900원\n",
       "79        (슈퍼프라이데이)캐리비안베이 골드1시즌 종일권+에버랜드오후권(8/17~8/26)   37,700원\n",
       "80                          데일리앤 여름 원피스 플라워 쉬폰 뷔스티에 린넨    9,900원\n",
       "81                         라헨느 토네이도 V6 차이슨 무선청소기 22.2V   86,900원\n",
       "82                   [디키즈]디키즈 시즌오프X프리뷰 특가 50종_DK98C878    7,000원\n",
       "83                                [숏핑] 고래사 프리미엄 어묵 26봉   33,520원\n",
       "84                               블리블리 인진쑥에센스 외 베스트 50종   29,000원\n",
       "85                    쿠폰가33900맥심모카골드/화이트/400T//커피믹스/커피   42,900원\n",
       "86                  [스마트에코]새로운 스마트에코물티슈 대용량120매 10+10팩   12,900원\n",
       "87                       [릴리유]릴리유 도톰한 하트엠보싱 캡형 80매 10팩   10,900원\n",
       "88                         역대급특가/반바지/치마바지/숏팬츠/청바지/SALE    6,900원\n",
       "89                   [멜리사앤더그]재사용가능 장거리이동완구 워터와우/스티커북모음    4,900원\n",
       "90                 [네고]강화유리액정보호갤럭시노트9/8 S9플러스 아이폰X V30   14,900원\n",
       "91                                        멀티 인덱스 도마 4P    9,900원\n",
       "92                   [미쟝센]미쟝센 퍼펙트 세럼/핑크세럼 1+1(증정)+추가증정    9,900원\n",
       "93                    [랩](금~일 Only) LAP 역시즌 코트/점퍼 긴급특가   49,500원\n",
       "94                      [가이타이너]베이직 후라이팬 기획세트 / 키친툴 궁중팬   10,900원\n",
       "95                         (메가박스)영화관람권 1매/예매권/전일/실시간발송    7,200원\n",
       "96                [롯데칠성]칠성사이다 190mlx30캔/탄산음료/사이다/콜라/탄산   10,900원\n",
       "97                         잇츠스킨 빅세일 최대 50% + 추가쿠폰 + 증정   11,000원\n",
       "98                  [코디]코디 허브가든 화장지 3겹 30롤 3팩(총90롤)/휴지   25,900원\n",
       "99   [케이투](신세계본점)[K2]18 F/W 신상 남여공용 BOOST 마조람 롱다운_K...  144,780원\n",
       "100                        무형광천연펄프 종이컵2000개 6.5온스 무료배송   14,200원\n",
       "\n",
       "[100 rows x 2 columns]"
      ]
     },
     "execution_count": 146,
     "metadata": {},
     "output_type": "execute_result"
    }
   ],
   "source": [
    "df"
   ]
  },
  {
   "cell_type": "code",
   "execution_count": 151,
   "metadata": {},
   "outputs": [],
   "source": [
    "driver.close()"
   ]
  },
  {
   "cell_type": "code",
   "execution_count": null,
   "metadata": {},
   "outputs": [],
   "source": []
  },
  {
   "cell_type": "markdown",
   "metadata": {},
   "source": [
    "### Selenium으로 네이버 영화 댓글 스크래핑"
   ]
  },
  {
   "cell_type": "code",
   "execution_count": 204,
   "metadata": {},
   "outputs": [],
   "source": [
    "driver = webdriver.Chrome()\n",
    "driver.get(\"https://movie.naver.com/movie/bi/mi/point.nhn?code=64686#tab\")"
   ]
  },
  {
   "cell_type": "code",
   "execution_count": 262,
   "metadata": {},
   "outputs": [
    {
     "data": {
      "text/plain": [
       "[]"
      ]
     },
     "execution_count": 262,
     "metadata": {},
     "output_type": "execute_result"
    }
   ],
   "source": [
    "coments = driver.find_elements_by_css_selector('html > html')\n",
    "coments"
   ]
  },
  {
   "cell_type": "markdown",
   "metadata": {},
   "source": [
    "##### html 안에 html 해결해야 함"
   ]
  },
  {
   "cell_type": "code",
   "execution_count": 263,
   "metadata": {},
   "outputs": [
    {
     "data": {
      "text/plain": [
       "['‘사람찾기’가 부끄러운 게 아니었어',\n",
       " '한글자막 담당자분이 불쌍하다',\n",
       " '후련하진 않으나 궁금증은 풀렸다',\n",
       " '쥐락펴락 신공',\n",
       " '데이비드 핀처를 좋아하는 이유',\n",
       " '언팔도 리콜이 되나요',\n",
       " '생산의 사회적 성격과 소유의 사적 성격간의 모순 작렬!',\n",
       " '작품상은 못 받지만 감독상엔 제격인 영화',\n",
       " '올해의 영화',\n",
       " '한글자막 담당자분이 불쌍하다']"
      ]
     },
     "execution_count": 263,
     "metadata": {},
     "output_type": "execute_result"
    }
   ],
   "source": [
    "# star_score = [coment.find_element_by_css_selector('.star_score > em').text for coment in coments]\n",
    "# reple = [coment.find_element_by_css_selector('.score_reple > p').text for coment in coments]\n",
    "# day = [coment.find_element_by_css_selector('.score_reple > dl > dt').text for coment in coments]\n",
    "reple\n",
    "# body > div > div > div.score_result > ul > li:nth-child(1) > div.score_reple > dl > dt > em:nth-child(2)\n",
    "# body > div > div > div.score_result > ul > li:nth-child(1) > div.score_reple > dl > dt > em:nth-child(1)"
   ]
  },
  {
   "cell_type": "code",
   "execution_count": 264,
   "metadata": {},
   "outputs": [],
   "source": [
    "driver.close()"
   ]
  }
 ],
 "metadata": {
  "kernelspec": {
   "display_name": "Python 3",
   "language": "python",
   "name": "python3"
  },
  "language_info": {
   "codemirror_mode": {
    "name": "ipython",
    "version": 3
   },
   "file_extension": ".py",
   "mimetype": "text/x-python",
   "name": "python",
   "nbconvert_exporter": "python",
   "pygments_lexer": "ipython3",
   "version": "3.6.4"
  }
 },
 "nbformat": 4,
 "nbformat_minor": 2
}
