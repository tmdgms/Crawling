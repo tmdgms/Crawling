{
 "cells": [
  {
   "cell_type": "markdown",
   "metadata": {},
   "source": [
    "# Requests"
   ]
  },
  {
   "cell_type": "code",
   "execution_count": 56,
   "metadata": {},
   "outputs": [],
   "source": [
    "import requests\n",
    "import time\n",
    "from bs4 import BeautifulSoup\n",
    "import forecastio"
   ]
  },
  {
   "cell_type": "code",
   "execution_count": 4,
   "metadata": {},
   "outputs": [],
   "source": [
    "# 특정 주소의 html 코드를 불러옴\n",
    "req = requests.get('https://beomi.github.io/beomi.github.io_old/')"
   ]
  },
  {
   "cell_type": "code",
   "execution_count": 5,
   "metadata": {
    "collapsed": true
   },
   "outputs": [
    {
     "data": {
      "text/plain": [
       "'<!DOCTYPE html><html><head><meta charset=\"utf-8\"><meta name=\"viewport\" content=\"width=device-width, initial-scale=1\"><title>Beomi\\'s Tech Blog - Beomi\\'s Tech Blog</title><link href=\"https://fonts.googleapis.com/css?family=Lato:900|Work+Sans\" rel=\"stylesheet\"><link rel=\"stylesheet\" href=\"/beomi.github.io_old/css/main.css\"><link rel=\"stylesheet\" href=\"/beomi.github.io_old/css/syntax.css\"><link rel=\"stylesheet\" href=\"/beomi.github.io_old/css/image-align.css\"><title>Beomi’s Tech Blog - Beomi’s Tech Blog</title><meta property=\"og:title\" content=\"Beomi’s Tech Blog\" /><link rel=\"canonical\" href=\"https://beomi.github.io/beomi.github.io_old/\" /><meta property=\"og:url\" content=\"https://beomi.github.io/beomi.github.io_old/\" /><meta property=\"og:site_name\" content=\"Beomi’s Tech Blog\" /><script type=\"application/ld+json\"> {\"@context\": \"http://schema.org\", \"@type\": \"WebSite\", \"name\": \"Beomi’s Tech Blog\", \"headline\": \"Beomi’s Tech Blog\", \"url\": \"https://beomi.github.io/beomi.github.io_old/\"}</script></head><body style=\"background-color: rgb(255, 255, 255)\"><header> <a href=\"/beomi.github.io_old/\"><div class=\"home\"></div></a></header><h1 class=\"headline\">Beomi\\'s Tech Blog</h1><div class=\"meta\"><span></span></div><h3><a href=\"/beomi.github.io_old/python/2017/02/28/HowToMakeWebCrawler-Save-with-Django.html\">나만의 웹 크롤러 만들기(4): Django로 크롤링한 데이터 저장하기</a></h3><span style=\"color:#777;\">February 28, 2017</span><hr noshade size=\"1\" color=\"#ccc\"><h3><a href=\"/beomi.github.io_old/python/2017/02/27/HowToMakeWebCrawler-With-Selenium.html\">나만의 웹 크롤러 만들기(3): Selenium으로 무적 크롤러 만들기</a></h3><span style=\"color:#777;\">February 27, 2017</span><hr noshade size=\"1\" color=\"#ccc\"><h3><a href=\"/beomi.github.io_old/python/2017/02/08/Setup-SocialAuth-for-Django.html\">Django에 Social Login 붙이기: Django세팅부터 Facebook/Google 개발 설정까지</a></h3><span style=\"color:#777;\">February 08, 2017</span><hr noshade size=\"1\" color=\"#ccc\"><h3><a href=\"/beomi.github.io_old/python/2017/02/01/Django-CustomAuth.html\">Django에 Custom인증 붙이기</a></h3><span style=\"color:#777;\">February 01, 2017</span><hr noshade size=\"1\" color=\"#ccc\"><h3><a href=\"/beomi.github.io_old/python/2017/01/20/HowToMakeWebCrawler-With-Login.html\">나만의 웹 크롤러 만들기(2): Login with Session</a></h3><span style=\"color:#777;\">January 20, 2017</span><hr noshade size=\"1\" color=\"#ccc\"><h3><a href=\"/beomi.github.io_old/python/2017/01/19/HowToMakeWebCrawler.html\">나만의 웹 크롤러 만들기 with Requests/BeautifulSoup</a></h3><span style=\"color:#777;\">January 19, 2017</span><hr noshade size=\"1\" color=\"#ccc\"><h3><a href=\"/beomi.github.io_old/2016/12/27/TelegramBot-with-Celery.html\">Celery로 TelegramBot 알림 보내기</a></h3><span style=\"color:#777;\">December 27, 2016</span><hr noshade size=\"1\" color=\"#ccc\"><h3><a href=\"/beomi.github.io_old/2016/12/27/HowToSetup-Virtualenv-VirtualenvWrapper.html\">Virtualenv/VirtualenvWrapper OS별 설치&이용법</a></h3><span style=\"color:#777;\">December 27, 2016</span><hr noshade size=\"1\" color=\"#ccc\"><h3><a href=\"/beomi.github.io_old/djangotddstudy/2016/12/26/Django-TDD-Study-02-Using-UnitTest.html\">[DjangoTDDStudy] #02: UnitTest 이용해 기능 테스트 하기</a></h3><span style=\"color:#777;\">December 26, 2016</span><hr noshade size=\"1\" color=\"#ccc\"><h3><a href=\"/beomi.github.io_old/djangotddstudy/2016/12/26/Django-TDD-Study-01-Setting-DevEnviron.html\">[DjangoTDDStudy] #01: 개발환경 세팅하기(Selenium / ChromeDriver)</a></h3><span style=\"color:#777;\">December 26, 2016</span><hr noshade size=\"1\" color=\"#ccc\"><h3><a href=\"/beomi.github.io_old/djangotddstudy/2016/12/26/Django-TDD-Study-00-Starting-Study.html\">[DjangoTDDStudy] #00: 스터디를 시작하며</a></h3><span style=\"color:#777;\">December 26, 2016</span><hr noshade size=\"1\" color=\"#ccc\"><h3><a href=\"/beomi.github.io_old/2016/12/21/Fabric-Put-Command-No-Such-File-Exception.html\">Fabric Put 커맨드가 No Such File Exception을 반환할 때 해결법</a></h3><span style=\"color:#777;\">December 21, 2016</span><hr noshade size=\"1\" color=\"#ccc\"><h3><a href=\"/beomi.github.io_old/2016/12/21/CKEditor-Lisence-and-Pricing.html\">CKEditor의 라이센스와 오픈소스 라이센스</a></h3><span style=\"color:#777;\">December 21, 2016</span><hr noshade size=\"1\" color=\"#ccc\"><h3><a href=\"/beomi.github.io_old/translation/2016/12/20/ReactNative-Translation-Intro-Finish.html\">ReactNative The Basis 번역을 끝냈습니다.</a></h3><span style=\"color:#777;\">December 20, 2016</span><hr noshade size=\"1\" color=\"#ccc\"><h3><a href=\"/beomi.github.io_old/translation/2016/11/15/ReactNative-Translation-01-getting-started.html\">[React Native 번역]#01: 시작하기</a></h3><span style=\"color:#777;\">November 15, 2016</span><hr noshade size=\"1\" color=\"#ccc\"><h3><a href=\"/beomi.github.io_old/django-celery/programming/python/translation/2016/11/04/eb-b2-88-ec-97-ad-ec-9e-a5-ea-b3-a0django-ec-99-80-ed-95-a8-ea-bb-98-ed-95-98-eb-8a-94-celery-ec-b2-ab-ea-b1-b8-ec-9d-8c.html\">[번역] 장고(Django)와 함께하는 Celery 첫걸음</a></h3><span style=\"color:#777;\">November 04, 2016</span><hr noshade size=\"1\" color=\"#ccc\"><h3><a href=\"/beomi.github.io_old/tech/2016/09/14/chrome-native-adblockr-eb-8c-80-ec-b2-b4-ed-95-98-ea-b8-b0.html\">Chrome Native Adblockr 대체하기</a></h3><span style=\"color:#777;\">September 14, 2016</span><hr noshade size=\"1\" color=\"#ccc\"><h3><a href=\"/beomi.github.io_old/dev%20env%20setup/mac%20/%20os%20x/tech/2016/08/09/customac-ec-84-a4-ec-b9-98-eb-b6-84-ed-88-ac-ea-b8-b0.html\">CustoMac 설치 분투기</a></h3><span style=\"color:#777;\">August 09, 2016</span><hr noshade size=\"1\" color=\"#ccc\"><h3><a href=\"/beomi.github.io_old/dev%20env%20setup/tech/ubuntu%20/%20debian/2016/07/22/ubuntu14-04-ec-97-90-ohmyzsh-ec-84-a4-ec-b9-98.html\">Ubuntu14.04에 OhMyZsh 설치</a></h3><span style=\"color:#777;\">July 22, 2016</span><hr noshade size=\"1\" color=\"#ccc\"><h3><a href=\"/beomi.github.io_old/programming/python/tech/2016/07/22/ubuntu14-04-ec-97-90-ec-84-9c-pip-eb-a1-9c-mysqlclient-ec-84-a4-ec-b9-98-ec-8b-a4-ed-8c-a8-ec-8b-9c.html\">Ubuntu14.04에서 pip로 mysqlclient 설치 실패시</a></h3><span style=\"color:#777;\">July 22, 2016</span><hr noshade size=\"1\" color=\"#ccc\"><h3><a href=\"/beomi.github.io_old/mac%20/%20os%20x/programming/python/tech/2016/07/22/ubuntu14-04-ec-97-90-ec-84-9c-python3-ea-b8-b0-eb-b0-98-virtualenvwrapper-ec-84-a4-ec-b9-98.html\">Ubuntu14.04에서 Python3기반 virtualenvwrapper 설치</a></h3><span style=\"color:#777;\">July 22, 2016</span><hr noshade size=\"1\" color=\"#ccc\"><h3><a href=\"/beomi.github.io_old/mac%20/%20os%20x/programming/python/tech/2016/07/21/mac-os-x-ec-97-90-ec-84-9c-pip-virtualenvwrapper-ec-84-a4-ec-b9-98-ec-8b-9c-uninstalling-six-ec-97-90-ec-84-9c-exception-eb-b0-9c-ec-83-9d-ec-8b-9c.html\">mac OS X에서 pip virtualenvwrapper 설치 시 uninstalling six 에서 Exception 발생 시</a></h3><span style=\"color:#777;\">July 21, 2016</span><hr noshade size=\"1\" color=\"#ccc\"><h3><a href=\"/beomi.github.io_old/programming/python/2016/07/17/fabric-for-python3-fabric3.html\">Fabric for Python3 (Fabric3)</a></h3><span style=\"color:#777;\">July 17, 2016</span><hr noshade size=\"1\" color=\"#ccc\"><h3><a href=\"/beomi.github.io_old/programming/python/2016/06/04/windows-ec-97-90-ec-84-9c-pip-eb-a1-9c-mysqlclient-ec-84-a4-ec-b9-98-ec-8b-a4-ed-8c-a8-ec-8b-9cpython3-43-5.html\">Windows에서 pip로 mysqlclient 설치 실패시(python3.4/3.5)</a></h3><span style=\"color:#777;\">June 04, 2016</span><hr noshade size=\"1\" color=\"#ccc\"><h3><a href=\"/beomi.github.io_old/mac%20/%20os%20x/tech/2016/05/27/eb-a7-a5-ec-97-90-ec-84-9c-ec-9c-88-eb-8f-84rdp-eb-a1-9c-ec-a0-91-ec-86-8d-ec-8b-9c-ed-95-9c-ec-98-81-ec-a0-84-ed-99-98-ed-95-98-ea-b8-b0.html\">맥에서 윈도RDP로 접속시 한영전환하기.</a></h3><span style=\"color:#777;\">May 27, 2016</span><hr noshade size=\"1\" color=\"#ccc\"><h3><a href=\"/beomi.github.io_old/programming/python/2016/05/27/pip-eb-a1-9c-mysqlclient-ec-84-a4-ec-b9-98-ec-a4-91-mac-os-x-ec-97-90-ec-84-9c-egg_info-oserror-eb-b0-9c-ec-83-9d-ec-8b-9c-eb-8c-80-ec-b2-98-eb-b0-a9-eb-b2-95.html\">pip로 mysqlclient설치 중 mac os x에서 egg_info / OSError 발생시 대처방법</a></h3><span style=\"color:#777;\">May 27, 2016</span><hr noshade size=\"1\" color=\"#ccc\"><div class=\"theme\" onclick=\"theme()\" style=\"background-image: url(/beomi.github.io_old/images/theme.svg);\"></div><script> (function(i,s,o,g,r,a,m){i[\\'GoogleAnalyticsObject\\']=r;i[r]=i[r]||function(){ (i[r].q=i[r].q||[]).push(arguments)},i[r].l=1*new Date();a=s.createElement(o), m=s.getElementsByTagName(o)[0];a.async=1;a.src=g;m.parentNode.insertBefore(a,m) })(window,document,\\'script\\',\\'//www.google-analytics.com/analytics.js\\',\\'ga\\'); ga(\\'create\\', \\'UA-89162642-1\\', \\'auto\\'); ga(\\'send\\', \\'pageview\\');</script><script src=\"/beomi.github.io_old/js/theme.min.js\"></script></body></html>\\n'"
      ]
     },
     "execution_count": 5,
     "metadata": {},
     "output_type": "execute_result"
    }
   ],
   "source": [
    "# html 코드를 text형식으로 바꿈\n",
    "html = req.text\n",
    "html"
   ]
  },
  {
   "cell_type": "code",
   "execution_count": 7,
   "metadata": {},
   "outputs": [
    {
     "data": {
      "text/plain": [
       "200"
      ]
     },
     "execution_count": 7,
     "metadata": {},
     "output_type": "execute_result"
    }
   ],
   "source": [
    "# 정상적으로 불러왔는지 확인하는 방법 (200이 정상)\n",
    "status = req.status_code\n",
    "status"
   ]
  },
  {
   "cell_type": "code",
   "execution_count": 8,
   "metadata": {},
   "outputs": [
    {
     "data": {
      "text/plain": [
       "True"
      ]
     },
     "execution_count": 8,
     "metadata": {},
     "output_type": "execute_result"
    }
   ],
   "source": [
    "# 정상적으로 불러왔는지 확인하는 방법\n",
    "is_ok = req.ok\n",
    "is_ok"
   ]
  },
  {
   "cell_type": "markdown",
   "metadata": {},
   "source": [
    "---"
   ]
  },
  {
   "cell_type": "markdown",
   "metadata": {},
   "source": [
    "# BeautifulSoup\n",
    "- html code를 python이 이해할수 있는 구조로 parsing 해줌\n",
    "    - python 객체로 변환"
   ]
  },
  {
   "cell_type": "code",
   "execution_count": 19,
   "metadata": {},
   "outputs": [],
   "source": [
    "# markup에 아까 저장한 html객체를 입력하고 이것을 parsing해줌\n",
    "soup = BeautifulSoup(markup=html, features='html.parser')"
   ]
  },
  {
   "cell_type": "markdown",
   "metadata": {},
   "source": [
    "- `(tag).(class)`\n",
    "- `(tag)#(id)`\n",
    "- `>`는 하위태그"
   ]
  },
  {
   "cell_type": "code",
   "execution_count": 26,
   "metadata": {},
   "outputs": [],
   "source": [
    "# CSS Selector를 이용해 html 요소들을 찾아냄\n",
    "# h3:nth-child(4) 여기서 :nth 부분은 특정하나를 나타내기 때문에 삭제\n",
    "my_title = soup.select(\n",
    "    'body > h3 > a')"
   ]
  },
  {
   "cell_type": "code",
   "execution_count": 40,
   "metadata": {},
   "outputs": [
    {
     "name": "stdout",
     "output_type": "stream",
     "text": [
      "가져온 것(첫줄) : <a href=\"/beomi.github.io_old/python/2017/02/28/HowToMakeWebCrawler-Save-with-Django.html\">나만의 웹 크롤러 만들기(4): Django로 크롤링한 데이터 저장하기</a> \n",
      " Type : <class 'list'> \n",
      " 길이 : 26\n"
     ]
    }
   ],
   "source": [
    "print(\"가져온 것(첫줄) :\",my_title[0],\"\\n\",\n",
    "      \"Type :\", type(my_title),\"\\n\",\n",
    "      \"길이 :\", len(my_title))"
   ]
  },
  {
   "cell_type": "code",
   "execution_count": 47,
   "metadata": {
    "collapsed": true
   },
   "outputs": [
    {
     "name": "stdout",
     "output_type": "stream",
     "text": [
      "나만의 웹 크롤러 만들기(4): Django로 크롤링한 데이터 저장하기\n",
      "/beomi.github.io_old/python/2017/02/28/HowToMakeWebCrawler-Save-with-Django.html\n",
      "나만의 웹 크롤러 만들기(3): Selenium으로 무적 크롤러 만들기\n",
      "/beomi.github.io_old/python/2017/02/27/HowToMakeWebCrawler-With-Selenium.html\n",
      "Django에 Social Login 붙이기: Django세팅부터 Facebook/Google 개발 설정까지\n",
      "/beomi.github.io_old/python/2017/02/08/Setup-SocialAuth-for-Django.html\n",
      "Django에 Custom인증 붙이기\n",
      "/beomi.github.io_old/python/2017/02/01/Django-CustomAuth.html\n",
      "나만의 웹 크롤러 만들기(2): Login with Session\n",
      "/beomi.github.io_old/python/2017/01/20/HowToMakeWebCrawler-With-Login.html\n",
      "나만의 웹 크롤러 만들기 with Requests/BeautifulSoup\n",
      "/beomi.github.io_old/python/2017/01/19/HowToMakeWebCrawler.html\n",
      "Celery로 TelegramBot 알림 보내기\n",
      "/beomi.github.io_old/2016/12/27/TelegramBot-with-Celery.html\n",
      "Virtualenv/VirtualenvWrapper OS별 설치&이용법\n",
      "/beomi.github.io_old/2016/12/27/HowToSetup-Virtualenv-VirtualenvWrapper.html\n",
      "[DjangoTDDStudy] #02: UnitTest 이용해 기능 테스트 하기\n",
      "/beomi.github.io_old/djangotddstudy/2016/12/26/Django-TDD-Study-02-Using-UnitTest.html\n",
      "[DjangoTDDStudy] #01: 개발환경 세팅하기(Selenium / ChromeDriver)\n",
      "/beomi.github.io_old/djangotddstudy/2016/12/26/Django-TDD-Study-01-Setting-DevEnviron.html\n",
      "[DjangoTDDStudy] #00: 스터디를 시작하며\n",
      "/beomi.github.io_old/djangotddstudy/2016/12/26/Django-TDD-Study-00-Starting-Study.html\n",
      "Fabric Put 커맨드가 No Such File Exception을 반환할 때 해결법\n",
      "/beomi.github.io_old/2016/12/21/Fabric-Put-Command-No-Such-File-Exception.html\n",
      "CKEditor의 라이센스와 오픈소스 라이센스\n",
      "/beomi.github.io_old/2016/12/21/CKEditor-Lisence-and-Pricing.html\n",
      "ReactNative The Basis 번역을 끝냈습니다.\n",
      "/beomi.github.io_old/translation/2016/12/20/ReactNative-Translation-Intro-Finish.html\n",
      "[React Native 번역]#01: 시작하기\n",
      "/beomi.github.io_old/translation/2016/11/15/ReactNative-Translation-01-getting-started.html\n",
      "[번역] 장고(Django)와 함께하는 Celery 첫걸음\n",
      "/beomi.github.io_old/django-celery/programming/python/translation/2016/11/04/eb-b2-88-ec-97-ad-ec-9e-a5-ea-b3-a0django-ec-99-80-ed-95-a8-ea-bb-98-ed-95-98-eb-8a-94-celery-ec-b2-ab-ea-b1-b8-ec-9d-8c.html\n",
      "Chrome Native Adblockr 대체하기\n",
      "/beomi.github.io_old/tech/2016/09/14/chrome-native-adblockr-eb-8c-80-ec-b2-b4-ed-95-98-ea-b8-b0.html\n",
      "CustoMac 설치 분투기\n",
      "/beomi.github.io_old/dev%20env%20setup/mac%20/%20os%20x/tech/2016/08/09/customac-ec-84-a4-ec-b9-98-eb-b6-84-ed-88-ac-ea-b8-b0.html\n",
      "Ubuntu14.04에 OhMyZsh 설치\n",
      "/beomi.github.io_old/dev%20env%20setup/tech/ubuntu%20/%20debian/2016/07/22/ubuntu14-04-ec-97-90-ohmyzsh-ec-84-a4-ec-b9-98.html\n",
      "Ubuntu14.04에서 pip로 mysqlclient 설치 실패시\n",
      "/beomi.github.io_old/programming/python/tech/2016/07/22/ubuntu14-04-ec-97-90-ec-84-9c-pip-eb-a1-9c-mysqlclient-ec-84-a4-ec-b9-98-ec-8b-a4-ed-8c-a8-ec-8b-9c.html\n",
      "Ubuntu14.04에서 Python3기반 virtualenvwrapper 설치\n",
      "/beomi.github.io_old/mac%20/%20os%20x/programming/python/tech/2016/07/22/ubuntu14-04-ec-97-90-ec-84-9c-python3-ea-b8-b0-eb-b0-98-virtualenvwrapper-ec-84-a4-ec-b9-98.html\n",
      "mac OS X에서 pip virtualenvwrapper 설치 시 uninstalling six 에서 Exception 발생 시\n",
      "/beomi.github.io_old/mac%20/%20os%20x/programming/python/tech/2016/07/21/mac-os-x-ec-97-90-ec-84-9c-pip-virtualenvwrapper-ec-84-a4-ec-b9-98-ec-8b-9c-uninstalling-six-ec-97-90-ec-84-9c-exception-eb-b0-9c-ec-83-9d-ec-8b-9c.html\n",
      "Fabric for Python3 (Fabric3)\n",
      "/beomi.github.io_old/programming/python/2016/07/17/fabric-for-python3-fabric3.html\n",
      "Windows에서 pip로 mysqlclient 설치 실패시(python3.4/3.5)\n",
      "/beomi.github.io_old/programming/python/2016/06/04/windows-ec-97-90-ec-84-9c-pip-eb-a1-9c-mysqlclient-ec-84-a4-ec-b9-98-ec-8b-a4-ed-8c-a8-ec-8b-9cpython3-43-5.html\n",
      "맥에서 윈도RDP로 접속시 한영전환하기.\n",
      "/beomi.github.io_old/mac%20/%20os%20x/tech/2016/05/27/eb-a7-a5-ec-97-90-ec-84-9c-ec-9c-88-eb-8f-84rdp-eb-a1-9c-ec-a0-91-ec-86-8d-ec-8b-9c-ed-95-9c-ec-98-81-ec-a0-84-ed-99-98-ed-95-98-ea-b8-b0.html\n",
      "pip로 mysqlclient설치 중 mac os x에서 egg_info / OSError 발생시 대처방법\n",
      "/beomi.github.io_old/programming/python/2016/05/27/pip-eb-a1-9c-mysqlclient-ec-84-a4-ec-b9-98-ec-a4-91-mac-os-x-ec-97-90-ec-84-9c-egg_info-oserror-eb-b0-9c-ec-83-9d-ec-8b-9c-eb-8c-80-ec-b2-98-eb-b0-a9-eb-b2-95.html\n"
     ]
    }
   ],
   "source": [
    "# 지금 데이터가 soup형태이기 때문에 여러가지 조작가능\n",
    "for title in my_title:\n",
    "    # 안에 text들을 가져옴\n",
    "    print(title.text)\n",
    "    # 안에 href 부분 \n",
    "    print(title.get('href'))"
   ]
  },
  {
   "cell_type": "markdown",
   "metadata": {},
   "source": [
    "## 응용 프로젝트"
   ]
  },
  {
   "cell_type": "code",
   "execution_count": 92,
   "metadata": {},
   "outputs": [
    {
     "data": {
      "text/plain": [
       "<Response [200]>"
      ]
     },
     "execution_count": 92,
     "metadata": {},
     "output_type": "execute_result"
    }
   ],
   "source": [
    "req2 = requests.get('https://movie.naver.com/movie/bi/mi/point.nhn?code=64686')\n",
    "req2"
   ]
  },
  {
   "cell_type": "code",
   "execution_count": 93,
   "metadata": {},
   "outputs": [],
   "source": [
    "html = req2.text"
   ]
  },
  {
   "cell_type": "code",
   "execution_count": 191,
   "metadata": {},
   "outputs": [],
   "source": [
    "movie = BeautifulSoup(html, 'html.parser')"
   ]
  },
  {
   "cell_type": "code",
   "execution_count": 190,
   "metadata": {},
   "outputs": [
    {
     "data": {
      "text/plain": [
       "[<iframe class=\"ifr\" frameborder=\"0\" id=\"pointAfterListIframe\" name=\"pointAfterListIframe\" scrolling=\"no\" src=\"/movie/bi/mi/pointWriteFormList.nhn?code=64686&amp;type=after&amp;isActualPointWriteExecute=false&amp;isMileageSubscriptionAlready=false&amp;isMileageSubscriptionReject=false\" title=\"네티즌 평점 리스트\" width=\"100%\"></iframe>]"
      ]
     },
     "execution_count": 190,
     "metadata": {},
     "output_type": "execute_result"
    }
   ],
   "source": [
    "movie.select('body > div > div[id=container] > div[id=content] > div[class=article] > div.section_group_frst > div.obj_section > div.ifr_module2 > iframe')"
   ]
  },
  {
   "cell_type": "markdown",
   "metadata": {},
   "source": [
    "##### 한계점....\n",
    "- 위 에서 원래 `</iframe>`전에 #document라고 있는데 표시가 안됨\n",
    "- 동적인 data들은 불러올수 없음"
   ]
  },
  {
   "cell_type": "code",
   "execution_count": null,
   "metadata": {},
   "outputs": [],
   "source": []
  }
 ],
 "metadata": {
  "kernelspec": {
   "display_name": "Python 3",
   "language": "python",
   "name": "python3"
  },
  "language_info": {
   "codemirror_mode": {
    "name": "ipython",
    "version": 3
   },
   "file_extension": ".py",
   "mimetype": "text/x-python",
   "name": "python",
   "nbconvert_exporter": "python",
   "pygments_lexer": "ipython3",
   "version": "3.6.4"
  }
 },
 "nbformat": 4,
 "nbformat_minor": 2
}
